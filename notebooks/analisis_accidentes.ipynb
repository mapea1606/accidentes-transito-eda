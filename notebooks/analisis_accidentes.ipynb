{
 "cells": [
  {
   "cell_type": "markdown",
   "id": "4160689f-e5b3-42b4-9419-3bd0cd80248b",
   "metadata": {},
   "source": [
    "# Análisis Exploratorio de Accidentes de Tránsito en EEUU (2016-2023)"
   ]
  },
  {
   "cell_type": "code",
   "execution_count": null,
   "id": "5ded9beb-c6f6-4023-b624-3cccc2233222",
   "metadata": {},
   "outputs": [],
   "source": []
  },
  {
   "cell_type": "code",
   "execution_count": null,
   "id": "a553f190-4980-4a55-9718-37be88183e27",
   "metadata": {},
   "outputs": [],
   "source": []
  }
 ],
 "metadata": {
  "kernelspec": {
   "display_name": "Python 3 (ipykernel)",
   "language": "python",
   "name": "python3"
  },
  "language_info": {
   "codemirror_mode": {
    "name": "ipython",
    "version": 3
   },
   "file_extension": ".py",
   "mimetype": "text/x-python",
   "name": "python",
   "nbconvert_exporter": "python",
   "pygments_lexer": "ipython3",
   "version": "3.12.3"
  }
 },
 "nbformat": 4,
 "nbformat_minor": 5
}
